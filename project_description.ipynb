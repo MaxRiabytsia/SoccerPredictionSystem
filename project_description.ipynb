{
 "cells": [
  {
   "cell_type": "code",
   "execution_count": 1,
   "id": "caea0767-ca42-4774-9b0d-39c93e5c290a",
   "metadata": {
    "pycharm": {
     "name": "#%%\n"
    }
   },
   "outputs": [],
   "source": [
    "import pandas as pd\n",
    "import numpy as np\n",
    "import matplotlib.pyplot as plt"
   ]
  },
  {
   "cell_type": "markdown",
   "id": "b4434e46-c986-42d2-bc61-79dce72a205b",
   "metadata": {
    "jp-MarkdownHeadingCollapsed": true,
    "pycharm": {
     "name": "#%% md\n"
    },
    "tags": []
   },
   "source": [
    "## The extraction stage"
   ]
  },
  {
   "cell_type": "markdown",
   "source": [
    "Extraction stage is happening in \"api_data_extraction.py\".\n",
    "\n",
    "In this stage I extracted soccer data from api-sports.io. I was mainly intersted in teams, results and dates of games. I decided to collect data from 36 biggest soccer leagues and across all of the available seasons (for different leagues there are different number of seasons available).\n",
    "\n",
    "To call the API I used requests Python library. The API provides data in json format so I parsed it using json Python library and collected data in a pandas DataFrame.\n",
    "\n",
    "The API stores odds only for 1 week so when calling API for the last season I also collected odds data. I deliberately saved the games and the odds datasets in different files to exclude the possibility of evaluating the model on the training data.\n",
    "\n",
    "Free version of the API provides only 10 requests per minute and 100 per day. That is why I added a function to count API calls and react when limits are exceeded.\n",
    "\n",
    "Below you can see the shape and the head of the games and the odds datasets."
   ],
   "metadata": {
    "collapsed": false,
    "pycharm": {
     "name": "#%% md\n"
    }
   }
  },
  {
   "cell_type": "code",
   "execution_count": 2,
   "id": "35de7330-7057-4ce3-baa5-f95112068e80",
   "metadata": {
    "pycharm": {
     "name": "#%%\n"
    }
   },
   "outputs": [
    {
     "name": "stdout",
     "output_type": "stream",
     "text": [
      "games_df.shape = (74940, 8)\n"
     ]
    },
    {
     "data": {
      "text/plain": "   game_id  home_team_id  away_team_id  result  goal_difference        date  \\\n0       65            33            46       1                1  2018-08-10   \n1       66            34            47      -1               -1  2018-08-11   \n2       67            35            43       1                2  2018-08-11   \n3       68            36            52      -1               -2  2018-08-11   \n4       69            37            49      -1               -3  2018-08-11   \n\n   league_id  season  \n0         39    2018  \n1         39    2018  \n2         39    2018  \n3         39    2018  \n4         39    2018  ",
      "text/html": "<div>\n<style scoped>\n    .dataframe tbody tr th:only-of-type {\n        vertical-align: middle;\n    }\n\n    .dataframe tbody tr th {\n        vertical-align: top;\n    }\n\n    .dataframe thead th {\n        text-align: right;\n    }\n</style>\n<table border=\"1\" class=\"dataframe\">\n  <thead>\n    <tr style=\"text-align: right;\">\n      <th></th>\n      <th>game_id</th>\n      <th>home_team_id</th>\n      <th>away_team_id</th>\n      <th>result</th>\n      <th>goal_difference</th>\n      <th>date</th>\n      <th>league_id</th>\n      <th>season</th>\n    </tr>\n  </thead>\n  <tbody>\n    <tr>\n      <th>0</th>\n      <td>65</td>\n      <td>33</td>\n      <td>46</td>\n      <td>1</td>\n      <td>1</td>\n      <td>2018-08-10</td>\n      <td>39</td>\n      <td>2018</td>\n    </tr>\n    <tr>\n      <th>1</th>\n      <td>66</td>\n      <td>34</td>\n      <td>47</td>\n      <td>-1</td>\n      <td>-1</td>\n      <td>2018-08-11</td>\n      <td>39</td>\n      <td>2018</td>\n    </tr>\n    <tr>\n      <th>2</th>\n      <td>67</td>\n      <td>35</td>\n      <td>43</td>\n      <td>1</td>\n      <td>2</td>\n      <td>2018-08-11</td>\n      <td>39</td>\n      <td>2018</td>\n    </tr>\n    <tr>\n      <th>3</th>\n      <td>68</td>\n      <td>36</td>\n      <td>52</td>\n      <td>-1</td>\n      <td>-2</td>\n      <td>2018-08-11</td>\n      <td>39</td>\n      <td>2018</td>\n    </tr>\n    <tr>\n      <th>4</th>\n      <td>69</td>\n      <td>37</td>\n      <td>49</td>\n      <td>-1</td>\n      <td>-3</td>\n      <td>2018-08-11</td>\n      <td>39</td>\n      <td>2018</td>\n    </tr>\n  </tbody>\n</table>\n</div>"
     },
     "execution_count": 2,
     "metadata": {},
     "output_type": "execute_result"
    }
   ],
   "source": [
    "games_df = pd.read_pickle(\"data/games.pkl\")\n",
    "print(f\"{games_df.shape = }\")\n",
    "games_df.head()"
   ]
  },
  {
   "cell_type": "code",
   "execution_count": 3,
   "id": "ff06f171-8812-4188-a9af-6be2214e1985",
   "metadata": {
    "pycharm": {
     "name": "#%%\n"
    }
   },
   "outputs": [
    {
     "name": "stdout",
     "output_type": "stream",
     "text": [
      "odds_df.shape = (2395, 11)\n"
     ]
    },
    {
     "data": {
      "text/plain": "   game_id  home_team_id  away_team_id  result  goal_difference        date  \\\n0     4860           334           327       1                1  2018-05-21   \n1     4880           327           324       0                0  2018-05-06   \n2     4891           334           328      -1               -1  2018-04-29   \n3     4897           326           329       0                0  2018-04-22   \n4     4898           328           324       1                1  2018-04-22   \n\n   league_id  season  home_odd  draw_odd  away_odd  \n0        103    2018      2.25       3.5       2.7  \n1        103    2018      2.20       3.3       2.9  \n2        103    2018      2.20       3.2       3.0  \n3        103    2018      1.95       3.4       3.4  \n4        103    2018      2.25       3.2       2.9  ",
      "text/html": "<div>\n<style scoped>\n    .dataframe tbody tr th:only-of-type {\n        vertical-align: middle;\n    }\n\n    .dataframe tbody tr th {\n        vertical-align: top;\n    }\n\n    .dataframe thead th {\n        text-align: right;\n    }\n</style>\n<table border=\"1\" class=\"dataframe\">\n  <thead>\n    <tr style=\"text-align: right;\">\n      <th></th>\n      <th>game_id</th>\n      <th>home_team_id</th>\n      <th>away_team_id</th>\n      <th>result</th>\n      <th>goal_difference</th>\n      <th>date</th>\n      <th>league_id</th>\n      <th>season</th>\n      <th>home_odd</th>\n      <th>draw_odd</th>\n      <th>away_odd</th>\n    </tr>\n  </thead>\n  <tbody>\n    <tr>\n      <th>0</th>\n      <td>4860</td>\n      <td>334</td>\n      <td>327</td>\n      <td>1</td>\n      <td>1</td>\n      <td>2018-05-21</td>\n      <td>103</td>\n      <td>2018</td>\n      <td>2.25</td>\n      <td>3.5</td>\n      <td>2.7</td>\n    </tr>\n    <tr>\n      <th>1</th>\n      <td>4880</td>\n      <td>327</td>\n      <td>324</td>\n      <td>0</td>\n      <td>0</td>\n      <td>2018-05-06</td>\n      <td>103</td>\n      <td>2018</td>\n      <td>2.20</td>\n      <td>3.3</td>\n      <td>2.9</td>\n    </tr>\n    <tr>\n      <th>2</th>\n      <td>4891</td>\n      <td>334</td>\n      <td>328</td>\n      <td>-1</td>\n      <td>-1</td>\n      <td>2018-04-29</td>\n      <td>103</td>\n      <td>2018</td>\n      <td>2.20</td>\n      <td>3.2</td>\n      <td>3.0</td>\n    </tr>\n    <tr>\n      <th>3</th>\n      <td>4897</td>\n      <td>326</td>\n      <td>329</td>\n      <td>0</td>\n      <td>0</td>\n      <td>2018-04-22</td>\n      <td>103</td>\n      <td>2018</td>\n      <td>1.95</td>\n      <td>3.4</td>\n      <td>3.4</td>\n    </tr>\n    <tr>\n      <th>4</th>\n      <td>4898</td>\n      <td>328</td>\n      <td>324</td>\n      <td>1</td>\n      <td>1</td>\n      <td>2018-04-22</td>\n      <td>103</td>\n      <td>2018</td>\n      <td>2.25</td>\n      <td>3.2</td>\n      <td>2.9</td>\n    </tr>\n  </tbody>\n</table>\n</div>"
     },
     "execution_count": 3,
     "metadata": {},
     "output_type": "execute_result"
    }
   ],
   "source": [
    "odds_df = pd.read_pickle(\"data/evaluation.pkl\")\n",
    "print(f\"{odds_df.shape = }\")\n",
    "odds_df.head()"
   ]
  },
  {
   "cell_type": "markdown",
   "id": "830f8fa0-b41e-4e7b-85ea-a914f6540fa3",
   "metadata": {
    "jp-MarkdownHeadingCollapsed": true,
    "pycharm": {
     "name": "#%% md\n"
    },
    "tags": []
   },
   "source": [
    "## The loading stage"
   ]
  },
  {
   "cell_type": "markdown",
   "source": [
    "The loading stage is happening in \"load_games_to_db.py\".\n",
    "\n",
    "In this stage I connected to AWS RDS database using pymysql Python library, created tables and loaded the games and the odds datasets using MySQL.\n",
    "\n",
    "Below you can see the tables schemas."
   ],
   "metadata": {
    "collapsed": false,
    "pycharm": {
     "name": "#%% md\n"
    }
   }
  },
  {
   "cell_type": "markdown",
   "source": [
    "CREATE TABLE IF NOT EXISTS games (<br>\n",
    "    &emsp;&emsp;game_id INT NOT NULL PRIMARY KEY,<br>\n",
    "    &emsp;&emsp;home_team_id INT NOT NULL,<br>\n",
    "    &emsp;&emsp;away_team_id INT NOT NULL,<br>\n",
    "    &emsp;&emsp;result INT NOT NULL,<br>\n",
    "    &emsp;&emsp;goal_difference INT NOT NULL,<br>\n",
    "    &emsp;&emsp;date DATE NOT NULL,<br>\n",
    "    &emsp;&emsp;league_id INT NOT NULL,<br>\n",
    "    &emsp;&emsp;season INT NOT NULL<br>\n",
    "    )"
   ],
   "metadata": {
    "collapsed": false,
    "pycharm": {
     "name": "#%% md\n"
    }
   }
  },
  {
   "cell_type": "markdown",
   "source": [
    "CREATE TABLE IF NOT EXISTS evaluation (<br>\n",
    "    &emsp;&emsp;game_id INT NOT NULL PRIMARY KEY,<br>\n",
    "    &emsp;&emsp;home_team_id INT NOT NULL,<br>\n",
    "    &emsp;&emsp;away_team_id INT NOT NULL,<br>\n",
    "    &emsp;&emsp;result INT NOT NULL,<br>\n",
    "    &emsp;&emsp;goal_difference INT NOT NULL,<br>\n",
    "    &emsp;&emsp;date DATE NOT NULL,<br>\n",
    "    &emsp;&emsp;league_id INT NOT NULL,<br>\n",
    "    &emsp;&emsp;season INT NOT NULL,<br>\n",
    "    &emsp;&emsp;home_odd FLOAT NOT NULL,<br>\n",
    "    &emsp;&emsp;draw_odd FLOAT NOT NULL,<br>\n",
    "    &emsp;&emsp;away_odd FLOAT NOT NULL<br>\n",
    "    )"
   ],
   "metadata": {
    "collapsed": false,
    "pycharm": {
     "name": "#%% md\n"
    }
   }
  },
  {
   "cell_type": "markdown",
   "id": "0d7ea97c-525c-41d3-9ae6-c10167bf8120",
   "metadata": {
    "jp-MarkdownHeadingCollapsed": true,
    "pycharm": {
     "name": "#%% md\n"
    },
    "tags": []
   },
   "source": [
    "## The transforming stage"
   ]
  },
  {
   "cell_type": "markdown",
   "source": [
    "The transforming stage is happening in \"transform_data.py\".\n",
    "\n",
    "In this stage I transformed previously collected data to format suitable for training the neural network. For each game (where it was possible) I transformed 15 last games of each team and 4 last head-to-heads into one array. Aslo I transformed result into one-hot category encoding ([home_win, draw, away_win]).\n",
    "\n",
    "Below you can see the shape and the head of the neural_net dataset."
   ],
   "metadata": {
    "collapsed": false,
    "pycharm": {
     "name": "#%% md\n"
    }
   }
  },
  {
   "cell_type": "code",
   "execution_count": 4,
   "id": "1b84239f-41c3-48f0-81bb-39f7d42d0220",
   "metadata": {
    "pycharm": {
     "name": "#%%\n"
    }
   },
   "outputs": [
    {
     "name": "stdout",
     "output_type": "stream",
     "text": [
      "neural_net_df.shape = (27417, 3)\n"
     ]
    },
    {
     "data": {
      "text/plain": "  game_id                                               data      label\n0      65  [0, 0, 3, 2, 2, 0, 4, 1, 4, -1, 1, -1, 3, 1, 2...  [1, 0, 0]\n1      72  [-2, -3, 0, 3, 4, -5, 0, 1, 0, -3, 3, 3, 3, 0,...  [1, 0, 0]\n2      74  [0, 1, -1, -2, -1, -4, 3, 0, 2, 2, -1, 3, 1, -...  [0, 0, 1]\n3      80  [2, -1, 1, 0, -3, 2, 0, -1, 1, -3, 0, -3, -2, ...  [0, 0, 1]\n4      81  [1, 2, -3, 0, 2, 1, 0, 4, -1, 2, 1, 1, 4, 0, 1...  [1, 0, 0]",
      "text/html": "<div>\n<style scoped>\n    .dataframe tbody tr th:only-of-type {\n        vertical-align: middle;\n    }\n\n    .dataframe tbody tr th {\n        vertical-align: top;\n    }\n\n    .dataframe thead th {\n        text-align: right;\n    }\n</style>\n<table border=\"1\" class=\"dataframe\">\n  <thead>\n    <tr style=\"text-align: right;\">\n      <th></th>\n      <th>game_id</th>\n      <th>data</th>\n      <th>label</th>\n    </tr>\n  </thead>\n  <tbody>\n    <tr>\n      <th>0</th>\n      <td>65</td>\n      <td>[0, 0, 3, 2, 2, 0, 4, 1, 4, -1, 1, -1, 3, 1, 2...</td>\n      <td>[1, 0, 0]</td>\n    </tr>\n    <tr>\n      <th>1</th>\n      <td>72</td>\n      <td>[-2, -3, 0, 3, 4, -5, 0, 1, 0, -3, 3, 3, 3, 0,...</td>\n      <td>[1, 0, 0]</td>\n    </tr>\n    <tr>\n      <th>2</th>\n      <td>74</td>\n      <td>[0, 1, -1, -2, -1, -4, 3, 0, 2, 2, -1, 3, 1, -...</td>\n      <td>[0, 0, 1]</td>\n    </tr>\n    <tr>\n      <th>3</th>\n      <td>80</td>\n      <td>[2, -1, 1, 0, -3, 2, 0, -1, 1, -3, 0, -3, -2, ...</td>\n      <td>[0, 0, 1]</td>\n    </tr>\n    <tr>\n      <th>4</th>\n      <td>81</td>\n      <td>[1, 2, -3, 0, 2, 1, 0, 4, -1, 2, 1, 1, 4, 0, 1...</td>\n      <td>[1, 0, 0]</td>\n    </tr>\n  </tbody>\n</table>\n</div>"
     },
     "execution_count": 4,
     "metadata": {},
     "output_type": "execute_result"
    }
   ],
   "source": [
    "neural_net_df = pd.read_pickle(\"data/neural_net.pkl\")\n",
    "print(f\"{neural_net_df.shape = }\")\n",
    "neural_net_df.head()"
   ]
  },
  {
   "cell_type": "markdown",
   "id": "157fe66e-9ffd-42ad-838e-c316c84541d7",
   "metadata": {
    "jp-MarkdownHeadingCollapsed": true,
    "pycharm": {
     "name": "#%% md\n"
    },
    "tags": []
   },
   "source": [
    "## The modeling stage"
   ]
  },
  {
   "cell_type": "markdown",
   "source": [
    "The modeling stage is happening in \"neural_net.py\".\n",
    "\n",
    "In this stage I converted previously transformed data into NumPy ndarray. Then I splitted the data into training and testing subsets using sklearn.model_selection.train_test_split.\n",
    "\n",
    "Then I built the neural network using Keras. I decided to make all of the layers dense. I chose Adam optimizer as it is optimal for most of the tasks. For our task categorical_crossentropy loss function is the best option because it is used for multi-class classification models where there are two or more output labels (which is exactly our case).\n",
    "\n",
    "The shape of the input layer is 15 (number of last games) * 2 (for each team) + 4 (number of head-to-heads) = 34.\n",
    "\n",
    "The data I am using is not very complex so I decided to use only one hidden layer with 256 neurons. After a bit of exploration I chose sigmoid activation function for the hidden layer as it performed the best (the reason is that sigmoid squeezes all values betweem 0 and 1 which is what we are looking for).\n",
    "\n",
    "The shape of the output layer is 3 (one-hot category encoding ([home_win, draw, away_win])). I am using softmax activation function in the output layer to convert a vector of output values into a vector of probabilities.\n",
    "\n",
    "With such parameters neural network is achieving a little above 50% accuracy on average."
   ],
   "metadata": {
    "collapsed": false,
    "pycharm": {
     "name": "#%% md\n"
    }
   }
  },
  {
   "cell_type": "markdown",
   "id": "e9b1919c-2827-434f-afcc-b331518179c5",
   "metadata": {
    "jp-MarkdownHeadingCollapsed": true,
    "pycharm": {
     "name": "#%% md\n"
    },
    "tags": []
   },
   "source": [
    "## The evaluation stage"
   ]
  },
  {
   "cell_type": "markdown",
   "source": [
    "The evaluation stage is happening in \"evaluation.py\".\n",
    "\n",
    "You might think that with the accuracy a little above 50% the model would not be able to earn money but the catch is that we have probability distribution as the output and we are not obliged to bet on every game.\n",
    "\n",
    "In this stage I evaluate system with different parameters of betting (<br>\n",
    "    min_bet_limit: min amount of money we can bet on a game, <br>\n",
    "    max_bet_limit: max amount of money we can bet on a game, <br>\n",
    "    min_prediction_confidence: min probability of the result that we are going to bet on<br>\n",
    "    )\n",
    "    \n",
    "Each time I give system 1000 points that represent money. I store results of every evaluation and all bets of the best one. You can see them below."
   ],
   "metadata": {
    "collapsed": false,
    "pycharm": {
     "name": "#%% md\n"
    }
   }
  },
  {
   "cell_type": "markdown",
   "source": [
    "I noticed that after probability reaches 70% a lot of the gueses are correct. That is why I built a function the increses the bet based on the confidence with doubled speed after 70%. The function is the reason why systems with 0.5 as their min_prediction_confidence, low min_bet_limit and high max_bet_limit perform the best. They bet very little money on risky games and a lot of money on safe games."
   ],
   "metadata": {
    "collapsed": false,
    "pycharm": {
     "name": "#%% md\n"
    }
   }
  },
  {
   "cell_type": "code",
   "execution_count": 5,
   "id": "0d535b41-0a26-4fde-942f-bc6e5844e141",
   "metadata": {
    "pycharm": {
     "name": "#%%\n"
    }
   },
   "outputs": [
    {
     "data": {
      "text/plain": "     min_bet_limit  max_bet_limit  min_prediction_confidence         gain  \\\n25            10.0          500.0                       0.50  2184.901820   \n57            20.0          500.0                       0.50  2141.026272   \n89            50.0          500.0                       0.50  2009.399630   \n114           75.0          500.0                       0.55  1957.523134   \n90            50.0          500.0                       0.55  1948.259788   \n\n     biggest_win  biggest_loss  average_bet  average_gain  no_bets  bets_won  \\\n25    280.398781   -378.297945        117.0      6.172039    0.612     0.242   \n57    281.819214   -380.781660        124.0      6.048097    0.612     0.242   \n89    293.066043   -388.232806        148.0      5.676270    0.612     0.242   \n114   274.205106   -359.102328        170.0      8.510970    0.748     0.172   \n90    261.478348   -350.814229        151.0      8.470695    0.748     0.172   \n\n     bets_lost  \n25       0.146  \n57       0.146  \n89       0.146  \n114      0.080  \n90       0.080  ",
      "text/html": "<div>\n<style scoped>\n    .dataframe tbody tr th:only-of-type {\n        vertical-align: middle;\n    }\n\n    .dataframe tbody tr th {\n        vertical-align: top;\n    }\n\n    .dataframe thead th {\n        text-align: right;\n    }\n</style>\n<table border=\"1\" class=\"dataframe\">\n  <thead>\n    <tr style=\"text-align: right;\">\n      <th></th>\n      <th>min_bet_limit</th>\n      <th>max_bet_limit</th>\n      <th>min_prediction_confidence</th>\n      <th>gain</th>\n      <th>biggest_win</th>\n      <th>biggest_loss</th>\n      <th>average_bet</th>\n      <th>average_gain</th>\n      <th>no_bets</th>\n      <th>bets_won</th>\n      <th>bets_lost</th>\n    </tr>\n  </thead>\n  <tbody>\n    <tr>\n      <th>25</th>\n      <td>10.0</td>\n      <td>500.0</td>\n      <td>0.50</td>\n      <td>2184.901820</td>\n      <td>280.398781</td>\n      <td>-378.297945</td>\n      <td>117.0</td>\n      <td>6.172039</td>\n      <td>0.612</td>\n      <td>0.242</td>\n      <td>0.146</td>\n    </tr>\n    <tr>\n      <th>57</th>\n      <td>20.0</td>\n      <td>500.0</td>\n      <td>0.50</td>\n      <td>2141.026272</td>\n      <td>281.819214</td>\n      <td>-380.781660</td>\n      <td>124.0</td>\n      <td>6.048097</td>\n      <td>0.612</td>\n      <td>0.242</td>\n      <td>0.146</td>\n    </tr>\n    <tr>\n      <th>89</th>\n      <td>50.0</td>\n      <td>500.0</td>\n      <td>0.50</td>\n      <td>2009.399630</td>\n      <td>293.066043</td>\n      <td>-388.232806</td>\n      <td>148.0</td>\n      <td>5.676270</td>\n      <td>0.612</td>\n      <td>0.242</td>\n      <td>0.146</td>\n    </tr>\n    <tr>\n      <th>114</th>\n      <td>75.0</td>\n      <td>500.0</td>\n      <td>0.55</td>\n      <td>1957.523134</td>\n      <td>274.205106</td>\n      <td>-359.102328</td>\n      <td>170.0</td>\n      <td>8.510970</td>\n      <td>0.748</td>\n      <td>0.172</td>\n      <td>0.080</td>\n    </tr>\n    <tr>\n      <th>90</th>\n      <td>50.0</td>\n      <td>500.0</td>\n      <td>0.55</td>\n      <td>1948.259788</td>\n      <td>261.478348</td>\n      <td>-350.814229</td>\n      <td>151.0</td>\n      <td>8.470695</td>\n      <td>0.748</td>\n      <td>0.172</td>\n      <td>0.080</td>\n    </tr>\n  </tbody>\n</table>\n</div>"
     },
     "execution_count": 5,
     "metadata": {},
     "output_type": "execute_result"
    }
   ],
   "source": [
    "eval_results_df = pd.read_pickle(\"data/eval_results.pkl\")\n",
    "eval_results_df.sort_values(\"gain\", ascending=False).head()"
   ]
  },
  {
   "cell_type": "code",
   "execution_count": 6,
   "id": "e47469a5-a90f-4cda-9391-42bfe1d0a51d",
   "metadata": {
    "pycharm": {
     "name": "#%%\n"
    }
   },
   "outputs": [
    {
     "data": {
      "text/plain": "    game_id         bet   odd        gain        money\n0   11225.0  327.939461  1.19   62.308498  1062.308498\n1   11621.0   59.536648  2.15   68.467145  1130.775643\n2   11728.0   21.425261  3.05  -21.425261  1109.350381\n3   11845.0   96.167217  2.80  -96.167217  1013.183164\n4   11892.0  162.463828  5.50 -162.463828   850.719335\n5   11896.0   15.520453  3.80  -15.520453   835.198882\n6   11899.0   91.312083  1.30   27.393625   862.592507\n7   11900.0  133.594534  1.65   86.836447   949.428954\n8   11902.0  129.039932  1.25   32.259983   981.688937\n9   11908.0   71.878461  3.90  -71.878461   909.810477\n10  11911.0  369.035408  1.35  129.162393  1038.972869\n11  11931.0   28.172495  2.25   35.215619  1074.188489\n12  11936.0   29.646887  2.30   38.540953  1112.729441\n13  12007.0   20.474714  2.45   29.688335  1142.417777\n14  12070.0   34.009253  3.30  -34.009253  1108.408524",
      "text/html": "<div>\n<style scoped>\n    .dataframe tbody tr th:only-of-type {\n        vertical-align: middle;\n    }\n\n    .dataframe tbody tr th {\n        vertical-align: top;\n    }\n\n    .dataframe thead th {\n        text-align: right;\n    }\n</style>\n<table border=\"1\" class=\"dataframe\">\n  <thead>\n    <tr style=\"text-align: right;\">\n      <th></th>\n      <th>game_id</th>\n      <th>bet</th>\n      <th>odd</th>\n      <th>gain</th>\n      <th>money</th>\n    </tr>\n  </thead>\n  <tbody>\n    <tr>\n      <th>0</th>\n      <td>11225.0</td>\n      <td>327.939461</td>\n      <td>1.19</td>\n      <td>62.308498</td>\n      <td>1062.308498</td>\n    </tr>\n    <tr>\n      <th>1</th>\n      <td>11621.0</td>\n      <td>59.536648</td>\n      <td>2.15</td>\n      <td>68.467145</td>\n      <td>1130.775643</td>\n    </tr>\n    <tr>\n      <th>2</th>\n      <td>11728.0</td>\n      <td>21.425261</td>\n      <td>3.05</td>\n      <td>-21.425261</td>\n      <td>1109.350381</td>\n    </tr>\n    <tr>\n      <th>3</th>\n      <td>11845.0</td>\n      <td>96.167217</td>\n      <td>2.80</td>\n      <td>-96.167217</td>\n      <td>1013.183164</td>\n    </tr>\n    <tr>\n      <th>4</th>\n      <td>11892.0</td>\n      <td>162.463828</td>\n      <td>5.50</td>\n      <td>-162.463828</td>\n      <td>850.719335</td>\n    </tr>\n    <tr>\n      <th>5</th>\n      <td>11896.0</td>\n      <td>15.520453</td>\n      <td>3.80</td>\n      <td>-15.520453</td>\n      <td>835.198882</td>\n    </tr>\n    <tr>\n      <th>6</th>\n      <td>11899.0</td>\n      <td>91.312083</td>\n      <td>1.30</td>\n      <td>27.393625</td>\n      <td>862.592507</td>\n    </tr>\n    <tr>\n      <th>7</th>\n      <td>11900.0</td>\n      <td>133.594534</td>\n      <td>1.65</td>\n      <td>86.836447</td>\n      <td>949.428954</td>\n    </tr>\n    <tr>\n      <th>8</th>\n      <td>11902.0</td>\n      <td>129.039932</td>\n      <td>1.25</td>\n      <td>32.259983</td>\n      <td>981.688937</td>\n    </tr>\n    <tr>\n      <th>9</th>\n      <td>11908.0</td>\n      <td>71.878461</td>\n      <td>3.90</td>\n      <td>-71.878461</td>\n      <td>909.810477</td>\n    </tr>\n    <tr>\n      <th>10</th>\n      <td>11911.0</td>\n      <td>369.035408</td>\n      <td>1.35</td>\n      <td>129.162393</td>\n      <td>1038.972869</td>\n    </tr>\n    <tr>\n      <th>11</th>\n      <td>11931.0</td>\n      <td>28.172495</td>\n      <td>2.25</td>\n      <td>35.215619</td>\n      <td>1074.188489</td>\n    </tr>\n    <tr>\n      <th>12</th>\n      <td>11936.0</td>\n      <td>29.646887</td>\n      <td>2.30</td>\n      <td>38.540953</td>\n      <td>1112.729441</td>\n    </tr>\n    <tr>\n      <th>13</th>\n      <td>12007.0</td>\n      <td>20.474714</td>\n      <td>2.45</td>\n      <td>29.688335</td>\n      <td>1142.417777</td>\n    </tr>\n    <tr>\n      <th>14</th>\n      <td>12070.0</td>\n      <td>34.009253</td>\n      <td>3.30</td>\n      <td>-34.009253</td>\n      <td>1108.408524</td>\n    </tr>\n  </tbody>\n</table>\n</div>"
     },
     "execution_count": 6,
     "metadata": {},
     "output_type": "execute_result"
    }
   ],
   "source": [
    "best_params = pd.read_pickle(\"data/best_params.pkl\")\n",
    "best_params.head(15)"
   ]
  },
  {
   "cell_type": "markdown",
   "source": [
    "As you can see below system is mainly earning money from save bets with low odds (from 1 to 2). It loses the most money in medium odds (from 3 to 6). Aslo there are rare mistakes of betting on results with high odds."
   ],
   "metadata": {
    "collapsed": false,
    "pycharm": {
     "name": "#%% md\n"
    }
   }
  },
  {
   "cell_type": "code",
   "execution_count": 7,
   "id": "f5163595-ff26-422a-9bca-8408b8ed0601",
   "metadata": {
    "pycharm": {
     "name": "#%%\n"
    }
   },
   "outputs": [
    {
     "data": {
      "text/plain": "<Figure size 576x432 with 1 Axes>",
      "image/png": "[encoded data removed]"
     },
     "metadata": {
      "needs_background": "light"
     },
     "output_type": "display_data"
    }
   ],
   "source": [
    "odds_and_gains = best_params.groupby(pd.cut(best_params[\"odd\"], np.arange(1, 16, 1))).sum()[\"gain\"]\n",
    "odds_and_gains_df = odds_and_gains.to_frame()\n",
    "odds_and_gains_df['label'] = odds_and_gains.keys().astype(str)\n",
    "\n",
    "plt.bar(x=odds_and_gains_df.label, height=odds_and_gains_df.gain)\n",
    "plt.title(\"Gain for odds ranges\", fontsize=18, pad=10)\n",
    "plt.xlabel(\"Odds ranges\", fontsize=14, labelpad=10)\n",
    "plt.ylabel(\"Gain\", fontsize=14, labelpad=10)\n",
    "plt.xticks(rotation = 30)\n",
    "fig = plt.gcf()\n",
    "fig.set_size_inches(8, 6)\n",
    "plt.show()"
   ]
  },
  {
   "cell_type": "markdown",
   "id": "e1e19628-4528-4af2-b03e-7a3aeaadea89",
   "metadata": {
    "jp-MarkdownHeadingCollapsed": true,
    "pycharm": {
     "name": "#%% md\n"
    },
    "tags": []
   },
   "source": [
    "### Extra evaluation games"
   ]
  },
  {
   "cell_type": "markdown",
   "source": [
    "Unfortunately, since the API only stores odds for one week and I started evaluation in the summer when all the seasons were over I was left with too little games for evaluation. That's why I found this dataset on Kaggle (https://www.kaggle.com/datasets/eladsil/football-games-odds). Author claims he has been collecting data from a real bookmaker for 2 years.\n",
    "\n",
    "So my task was to match these games with the ones from the API. That is what I did in \"extra_evaluation_games.py\". I matched games based on teams and dates."
   ],
   "metadata": {
    "collapsed": false,
    "pycharm": {
     "name": "#%% md\n"
    }
   }
  },
  {
   "cell_type": "markdown",
   "id": "56349432-e29f-4600-bf17-52ed3fd62761",
   "metadata": {
    "jp-MarkdownHeadingCollapsed": true,
    "pycharm": {
     "name": "#%% md\n"
    },
    "tags": []
   },
   "source": [
    "## Conclusion"
   ]
  },
  {
   "cell_type": "markdown",
   "source": [
    "Football prediction system is a good system that is able to earn money in a long-term perspective. Though it is fair to say that the system has flows and potential for improvement."
   ],
   "metadata": {
    "collapsed": false,
    "pycharm": {
     "name": "#%% md\n"
    }
   }
  }
 ],
 "metadata": {
  "kernelspec": {
   "display_name": "Python 3 (ipykernel)",
   "language": "python",
   "name": "python3"
  },
  "language_info": {
   "codemirror_mode": {
    "name": "ipython",
    "version": 3
   },
   "file_extension": ".py",
   "mimetype": "text/x-python",
   "name": "python",
   "nbconvert_exporter": "python",
   "pygments_lexer": "ipython3",
   "version": "3.10.4"
  }
 },
 "nbformat": 4,
 "nbformat_minor": 5
}